{
 "cells": [
  {
   "cell_type": "code",
   "execution_count": 19,
   "metadata": {},
   "outputs": [
    {
     "name": "stdout",
     "output_type": "stream",
     "text": [
      "Test score: 0.29\n"
     ]
    },
    {
     "data": {
      "text/plain": [
       "['model.joblib']"
      ]
     },
     "execution_count": 19,
     "metadata": {},
     "output_type": "execute_result"
    }
   ],
   "source": [
    "import pandas as pd\n",
    "from sklearn.neural_network import MLPRegressor\n",
    "from sklearn.model_selection import train_test_split\n",
    "import joblib\n",
    "\n",
    "# Load the training data from the CSV file\n",
    "train_data = pd.read_csv('training_data.csv',header=None)\n",
    "\n",
    "# Split the data into input features (X) and output target (y)\n",
    "X_train = train_data.iloc[:, :31].values\n",
    "y_train = train_data.iloc[:, 31].values\n",
    "\n",
    "# Split data into training and testing sets\n",
    "X_train, X_test, y_train, y_test = train_test_split(X_train, y_train, test_size=0.2)\n",
    "\n",
    "# Create a neural network with 2 hidden layers of 16 neurons each\n",
    "model = MLPRegressor(hidden_layer_sizes=(16), max_iter=10000, solver='lbfgs', alpha=0.000001, random_state=42)\n",
    "\n",
    "# Train the neural network on the training data\n",
    "model.fit(X_train, y_train)\n",
    "\n",
    "# Evaluate the performance of the neural network on the testing data\n",
    "score = model.score(X_test, y_test)\n",
    "print(\"Test score: {:.2f}\".format(score))\n",
    "\n",
    "# Save the trained model to a file\n",
    "joblib.dump(model, \"model.joblib\", protocol=2)\n"
   ]
  },
  {
   "cell_type": "code",
   "execution_count": 24,
   "metadata": {},
   "outputs": [
    {
     "name": "stdout",
     "output_type": "stream",
     "text": [
      "Prediction: [50.09324109]\n"
     ]
    }
   ],
   "source": [
    "# Load the saved model from file\n",
    "model = joblib.load(\"model.joblib\")\n",
    "\n",
    "# Define a test list of length 31\n",
    "test_list = [40] + [15]*30\n",
    "\n",
    "# Make a prediction on the test list using the trained model\n",
    "prediction = model.predict([test_list])\n",
    "\n",
    "# Print the predicted output\n",
    "print(\"Prediction:\", prediction)"
   ]
  },
  {
   "cell_type": "code",
   "execution_count": 1,
   "metadata": {},
   "outputs": [
    {
     "data": {
      "text/plain": [
       "-90"
      ]
     },
     "execution_count": 1,
     "metadata": {},
     "output_type": "execute_result"
    }
   ],
   "source": [
    "(-90 - -180) % 360 - 180"
   ]
  },
  {
   "cell_type": "code",
   "execution_count": 2,
   "metadata": {},
   "outputs": [],
   "source": [
    "import math"
   ]
  },
  {
   "cell_type": "code",
   "execution_count": 24,
   "metadata": {},
   "outputs": [],
   "source": [
    "def targetHeading():\n",
    "    dx = target_x - rover_x\n",
    "    dy = target_y - rover_y\n",
    "    angle = math.atan2(dy, dx)\n",
    "    angle = math.degrees(angle)\n",
    "    target_heading = angle - rover_heading\n",
    "    if target_heading > 180:\n",
    "        target_heading -= 360\n",
    "    elif target_heading < -180:\n",
    "        target_heading += 360\n",
    "    return target_heading"
   ]
  },
  {
   "cell_type": "code",
   "execution_count": 28,
   "metadata": {},
   "outputs": [
    {
     "data": {
      "text/plain": [
       "-90.0"
      ]
     },
     "execution_count": 28,
     "metadata": {},
     "output_type": "execute_result"
    }
   ],
   "source": [
    "rover_x = -10\n",
    "rover_y = 0\n",
    "rover_heading = 0\n",
    "\n",
    "target_x = -10\n",
    "target_y = -10\n",
    "\n",
    "targetHeading()"
   ]
  },
  {
   "cell_type": "code",
   "execution_count": 15,
   "metadata": {},
   "outputs": [],
   "source": [
    "import math"
   ]
  },
  {
   "cell_type": "code",
   "execution_count": 65,
   "metadata": {},
   "outputs": [],
   "source": [
    "base = [abs(x*180/29 - 90)*math.pi/180 for x in list(range(0,30))]\n",
    "front_distances = [1/math.cos(x) for x in base[8:22]]\n",
    "left_distances = [(math.tan(base[8]))/math.sin(x) for x in base[22:30]]\n",
    "right_distances = [(math.tan(base[8]))/math.sin(x) for x in base[0:8]]\n",
    "safety_distances = right_distances + front_distances + left_distances"
   ]
  },
  {
   "cell_type": "code",
   "execution_count": 68,
   "metadata": {},
   "outputs": [
    {
     "data": {
      "text/plain": [
       "[0.849407656057362,\n",
       " 0.8544162809040342,\n",
       " 0.8697417344853755,\n",
       " 0.8963275614824183,\n",
       " 0.9359086172312998,\n",
       " 0.9913059955411166,\n",
       " 1.0669702986351992,\n",
       " 1.1699902623462821,\n",
       " 1.3120569218478526,\n",
       " 1.2081832695937895,\n",
       " 1.131846482780002,\n",
       " 1.0764532400738904,\n",
       " 1.0378288700781138,\n",
       " 1.0133493346171383,\n",
       " 1.0014687401828848,\n",
       " 1.0014687401828848,\n",
       " 1.0133493346171383,\n",
       " 1.0378288700781138,\n",
       " 1.0764532400738904,\n",
       " 1.131846482780002,\n",
       " 1.2081832695937895,\n",
       " 1.3120569218478524,\n",
       " 1.169990262346282,\n",
       " 1.0669702986351992,\n",
       " 0.9913059955411168,\n",
       " 0.9359086172312998,\n",
       " 0.8963275614824183,\n",
       " 0.8697417344853755,\n",
       " 0.8544162809040342,\n",
       " 0.849407656057362]"
      ]
     },
     "execution_count": 68,
     "metadata": {},
     "output_type": "execute_result"
    }
   ],
   "source": [
    "safety_distances"
   ]
  },
  {
   "cell_type": "code",
   "execution_count": null,
   "metadata": {},
   "outputs": [],
   "source": []
  }
 ],
 "metadata": {
  "kernelspec": {
   "display_name": "APSC103Venv",
   "language": "python",
   "name": "python3"
  },
  "language_info": {
   "codemirror_mode": {
    "name": "ipython",
    "version": 3
   },
   "file_extension": ".py",
   "mimetype": "text/x-python",
   "name": "python",
   "nbconvert_exporter": "python",
   "pygments_lexer": "ipython3",
   "version": "3.9.13"
  },
  "orig_nbformat": 4,
  "vscode": {
   "interpreter": {
    "hash": "6d4341d51d6dfed0eabf20e5f06b800916b3d336ae71e0f1ec0a05fe626c18b7"
   }
  }
 },
 "nbformat": 4,
 "nbformat_minor": 2
}
